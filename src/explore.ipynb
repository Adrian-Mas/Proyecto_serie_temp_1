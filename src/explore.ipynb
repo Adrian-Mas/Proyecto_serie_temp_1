{
    "cells": [
        {
            "cell_type": "markdown",
            "metadata": {},
            "source": [
                "# Explore here"
            ]
        },
        {
            "cell_type": "markdown",
            "metadata": {},
            "source": [
                "PROYECTO SERIES DE TIEMPO"
            ]
        },
        {
            "cell_type": "code",
            "execution_count": 2,
            "metadata": {},
            "outputs": [],
            "source": [
                "import pandas as pd\n",
                "import numpy as np\n",
                "import os\n",
                "import requests\n",
                "\n",
                "import matplotlib.pyplot as plt\n",
                "import seaborn as sns\n",
                "\n",
                "from statsmodels.tsa.seasonal import seasonal_decompose\n",
                "from statsmodels.tsa.stattools import adfuller\n",
                "from statsmodels.graphics.tsaplots import plot_acf\n",
                "\n",
                "from pmdarima import auto_arima\n",
                "\n",
                "import warnings"
            ]
        },
        {
            "cell_type": "code",
            "execution_count": 3,
            "metadata": {},
            "outputs": [],
            "source": [
                "warnings.filterwarnings(\"ignore\")"
            ]
        },
        {
            "cell_type": "code",
            "execution_count": 4,
            "metadata": {},
            "outputs": [],
            "source": [
                "archivo = \"https://raw.githubusercontent.com/4GeeksAcademy/alternative-time-series-project/main/sales.csv\""
            ]
        },
        {
            "cell_type": "code",
            "execution_count": null,
            "metadata": {},
            "outputs": [
                {
                    "name": "stdout",
                    "output_type": "stream",
                    "text": [
                        "Archivo guardado en crudo exitosamente en: /workspaces/Proyecto_serie_temp_1/data/raw/sales.csv\n"
                    ]
                }
            ],
            "source": [
                "# Nombre y ruta de la carpeta para datos en crudo\n",
                "data_folder = \"/workspaces/Proyecto_serie_temp_1/data/raw\"\n",
                "data_path = os.path.join(data_folder, \"sales.csv\")\n",
                "\n",
                "# Crear la carpeta si no existe\n",
                "if not os.path.exists(data_folder):\n",
                "    os.makedirs(data_folder)\n",
                "\n",
                "# Petición para descargar el fichero\n",
                "response = requests.get(archivo)\n",
                "\n",
                "# Verificar si la descarga fue exitosa\n",
                "if response.status_code == 200:\n",
                "    # Guardar el contenido en la carpeta en crudo\n",
                "    with open(data_path, 'wb') as file:\n",
                "        file.write(response.content)\n",
                "    print(\"Archivo guardado en crudo exitosamente en:\", data_path)\n",
                "else:\n",
                "    print(\"Error al descargar el archivo:\", response.status_code)\n",
                "\n",
                "# Leer el archivo CSV descargado \n",
                "df = pd.read_csv(data_path)"
            ]
        },
        {
            "cell_type": "code",
            "execution_count": 6,
            "metadata": {},
            "outputs": [
                {
                    "data": {
                        "text/html": [
                            "<div>\n",
                            "<style scoped>\n",
                            "    .dataframe tbody tr th:only-of-type {\n",
                            "        vertical-align: middle;\n",
                            "    }\n",
                            "\n",
                            "    .dataframe tbody tr th {\n",
                            "        vertical-align: top;\n",
                            "    }\n",
                            "\n",
                            "    .dataframe thead th {\n",
                            "        text-align: right;\n",
                            "    }\n",
                            "</style>\n",
                            "<table border=\"1\" class=\"dataframe\">\n",
                            "  <thead>\n",
                            "    <tr style=\"text-align: right;\">\n",
                            "      <th></th>\n",
                            "      <th>date</th>\n",
                            "      <th>sales</th>\n",
                            "    </tr>\n",
                            "  </thead>\n",
                            "  <tbody>\n",
                            "    <tr>\n",
                            "      <th>0</th>\n",
                            "      <td>2022-09-03 17:10:08.079328</td>\n",
                            "      <td>55.292157</td>\n",
                            "    </tr>\n",
                            "    <tr>\n",
                            "      <th>1</th>\n",
                            "      <td>2022-09-04 17:10:08.079328</td>\n",
                            "      <td>53.803211</td>\n",
                            "    </tr>\n",
                            "    <tr>\n",
                            "      <th>2</th>\n",
                            "      <td>2022-09-05 17:10:08.079328</td>\n",
                            "      <td>58.141693</td>\n",
                            "    </tr>\n",
                            "    <tr>\n",
                            "      <th>3</th>\n",
                            "      <td>2022-09-06 17:10:08.079328</td>\n",
                            "      <td>64.530899</td>\n",
                            "    </tr>\n",
                            "    <tr>\n",
                            "      <th>4</th>\n",
                            "      <td>2022-09-07 17:10:08.079328</td>\n",
                            "      <td>66.013633</td>\n",
                            "    </tr>\n",
                            "    <tr>\n",
                            "      <th>5</th>\n",
                            "      <td>2022-09-08 17:10:08.079328</td>\n",
                            "      <td>60.081865</td>\n",
                            "    </tr>\n",
                            "    <tr>\n",
                            "      <th>6</th>\n",
                            "      <td>2022-09-09 17:10:08.079328</td>\n",
                            "      <td>68.466704</td>\n",
                            "    </tr>\n",
                            "    <tr>\n",
                            "      <th>7</th>\n",
                            "      <td>2022-09-10 17:10:08.079328</td>\n",
                            "      <td>67.765106</td>\n",
                            "    </tr>\n",
                            "    <tr>\n",
                            "      <th>8</th>\n",
                            "      <td>2022-09-11 17:10:08.079328</td>\n",
                            "      <td>70.512261</td>\n",
                            "    </tr>\n",
                            "    <tr>\n",
                            "      <th>9</th>\n",
                            "      <td>2022-09-12 17:10:08.079328</td>\n",
                            "      <td>74.656453</td>\n",
                            "    </tr>\n",
                            "    <tr>\n",
                            "      <th>10</th>\n",
                            "      <td>2022-09-13 17:10:08.079328</td>\n",
                            "      <td>76.459528</td>\n",
                            "    </tr>\n",
                            "    <tr>\n",
                            "      <th>11</th>\n",
                            "      <td>2022-09-14 17:10:08.079328</td>\n",
                            "      <td>82.992958</td>\n",
                            "    </tr>\n",
                            "    <tr>\n",
                            "      <th>12</th>\n",
                            "      <td>2022-09-15 17:10:08.079328</td>\n",
                            "      <td>83.515990</td>\n",
                            "    </tr>\n",
                            "    <tr>\n",
                            "      <th>13</th>\n",
                            "      <td>2022-09-16 17:10:08.079328</td>\n",
                            "      <td>84.200641</td>\n",
                            "    </tr>\n",
                            "    <tr>\n",
                            "      <th>14</th>\n",
                            "      <td>2022-09-17 17:10:08.079328</td>\n",
                            "      <td>87.769946</td>\n",
                            "    </tr>\n",
                            "    <tr>\n",
                            "      <th>15</th>\n",
                            "      <td>2022-09-18 17:10:08.079328</td>\n",
                            "      <td>90.042119</td>\n",
                            "    </tr>\n",
                            "    <tr>\n",
                            "      <th>16</th>\n",
                            "      <td>2022-09-19 17:10:08.079328</td>\n",
                            "      <td>96.126073</td>\n",
                            "    </tr>\n",
                            "    <tr>\n",
                            "      <th>17</th>\n",
                            "      <td>2022-09-20 17:10:08.079328</td>\n",
                            "      <td>93.631101</td>\n",
                            "    </tr>\n",
                            "    <tr>\n",
                            "      <th>18</th>\n",
                            "      <td>2022-09-21 17:10:08.079328</td>\n",
                            "      <td>97.788518</td>\n",
                            "    </tr>\n",
                            "    <tr>\n",
                            "      <th>19</th>\n",
                            "      <td>2022-09-22 17:10:08.079328</td>\n",
                            "      <td>96.889768</td>\n",
                            "    </tr>\n",
                            "    <tr>\n",
                            "      <th>20</th>\n",
                            "      <td>2022-09-23 17:10:08.079328</td>\n",
                            "      <td>94.395825</td>\n",
                            "    </tr>\n",
                            "    <tr>\n",
                            "      <th>21</th>\n",
                            "      <td>2022-09-24 17:10:08.079328</td>\n",
                            "      <td>106.618390</td>\n",
                            "    </tr>\n",
                            "    <tr>\n",
                            "      <th>22</th>\n",
                            "      <td>2022-09-25 17:10:08.079328</td>\n",
                            "      <td>109.853583</td>\n",
                            "    </tr>\n",
                            "    <tr>\n",
                            "      <th>23</th>\n",
                            "      <td>2022-09-26 17:10:08.079328</td>\n",
                            "      <td>107.636519</td>\n",
                            "    </tr>\n",
                            "    <tr>\n",
                            "      <th>24</th>\n",
                            "      <td>2022-09-27 17:10:08.079328</td>\n",
                            "      <td>119.275017</td>\n",
                            "    </tr>\n",
                            "    <tr>\n",
                            "      <th>25</th>\n",
                            "      <td>2022-09-28 17:10:08.079328</td>\n",
                            "      <td>110.705396</td>\n",
                            "    </tr>\n",
                            "    <tr>\n",
                            "      <th>26</th>\n",
                            "      <td>2022-09-29 17:10:08.079328</td>\n",
                            "      <td>117.808508</td>\n",
                            "    </tr>\n",
                            "    <tr>\n",
                            "      <th>27</th>\n",
                            "      <td>2022-09-30 17:10:08.079328</td>\n",
                            "      <td>119.712421</td>\n",
                            "    </tr>\n",
                            "    <tr>\n",
                            "      <th>28</th>\n",
                            "      <td>2022-10-01 17:10:08.079328</td>\n",
                            "      <td>127.475050</td>\n",
                            "    </tr>\n",
                            "    <tr>\n",
                            "      <th>29</th>\n",
                            "      <td>2022-10-02 17:10:08.079328</td>\n",
                            "      <td>129.887528</td>\n",
                            "    </tr>\n",
                            "    <tr>\n",
                            "      <th>30</th>\n",
                            "      <td>2022-10-03 17:10:08.079328</td>\n",
                            "      <td>128.547034</td>\n",
                            "    </tr>\n",
                            "    <tr>\n",
                            "      <th>31</th>\n",
                            "      <td>2022-10-04 17:10:08.079328</td>\n",
                            "      <td>131.819419</td>\n",
                            "    </tr>\n",
                            "    <tr>\n",
                            "      <th>32</th>\n",
                            "      <td>2022-10-05 17:10:08.079328</td>\n",
                            "      <td>130.624314</td>\n",
                            "    </tr>\n",
                            "    <tr>\n",
                            "      <th>33</th>\n",
                            "      <td>2022-10-06 17:10:08.079328</td>\n",
                            "      <td>129.948022</td>\n",
                            "    </tr>\n",
                            "    <tr>\n",
                            "      <th>34</th>\n",
                            "      <td>2022-10-07 17:10:08.079328</td>\n",
                            "      <td>137.449414</td>\n",
                            "    </tr>\n",
                            "    <tr>\n",
                            "      <th>35</th>\n",
                            "      <td>2022-10-08 17:10:08.079328</td>\n",
                            "      <td>141.564937</td>\n",
                            "    </tr>\n",
                            "    <tr>\n",
                            "      <th>36</th>\n",
                            "      <td>2022-10-09 17:10:08.079328</td>\n",
                            "      <td>147.389502</td>\n",
                            "    </tr>\n",
                            "    <tr>\n",
                            "      <th>37</th>\n",
                            "      <td>2022-10-10 17:10:08.079328</td>\n",
                            "      <td>149.908509</td>\n",
                            "    </tr>\n",
                            "    <tr>\n",
                            "      <th>38</th>\n",
                            "      <td>2022-10-11 17:10:08.079328</td>\n",
                            "      <td>147.742129</td>\n",
                            "    </tr>\n",
                            "    <tr>\n",
                            "      <th>39</th>\n",
                            "      <td>2022-10-12 17:10:08.079328</td>\n",
                            "      <td>150.599941</td>\n",
                            "    </tr>\n",
                            "    <tr>\n",
                            "      <th>40</th>\n",
                            "      <td>2022-10-13 17:10:08.079328</td>\n",
                            "      <td>150.963930</td>\n",
                            "    </tr>\n",
                            "    <tr>\n",
                            "      <th>41</th>\n",
                            "      <td>2022-10-14 17:10:08.079328</td>\n",
                            "      <td>152.452275</td>\n",
                            "    </tr>\n",
                            "    <tr>\n",
                            "      <th>42</th>\n",
                            "      <td>2022-10-15 17:10:08.079328</td>\n",
                            "      <td>154.196258</td>\n",
                            "    </tr>\n",
                            "    <tr>\n",
                            "      <th>43</th>\n",
                            "      <td>2022-10-16 17:10:08.079328</td>\n",
                            "      <td>167.770134</td>\n",
                            "    </tr>\n",
                            "    <tr>\n",
                            "      <th>44</th>\n",
                            "      <td>2022-10-17 17:10:08.079328</td>\n",
                            "      <td>162.991591</td>\n",
                            "    </tr>\n",
                            "    <tr>\n",
                            "      <th>45</th>\n",
                            "      <td>2022-10-18 17:10:08.079328</td>\n",
                            "      <td>165.809065</td>\n",
                            "    </tr>\n",
                            "    <tr>\n",
                            "      <th>46</th>\n",
                            "      <td>2022-10-19 17:10:08.079328</td>\n",
                            "      <td>165.967641</td>\n",
                            "    </tr>\n",
                            "    <tr>\n",
                            "      <th>47</th>\n",
                            "      <td>2022-10-20 17:10:08.079328</td>\n",
                            "      <td>174.661238</td>\n",
                            "    </tr>\n",
                            "    <tr>\n",
                            "      <th>48</th>\n",
                            "      <td>2022-10-21 17:10:08.079328</td>\n",
                            "      <td>170.089813</td>\n",
                            "    </tr>\n",
                            "    <tr>\n",
                            "      <th>49</th>\n",
                            "      <td>2022-10-22 17:10:08.079328</td>\n",
                            "      <td>176.896026</td>\n",
                            "    </tr>\n",
                            "  </tbody>\n",
                            "</table>\n",
                            "</div>"
                        ],
                        "text/plain": [
                            "                          date       sales\n",
                            "0   2022-09-03 17:10:08.079328   55.292157\n",
                            "1   2022-09-04 17:10:08.079328   53.803211\n",
                            "2   2022-09-05 17:10:08.079328   58.141693\n",
                            "3   2022-09-06 17:10:08.079328   64.530899\n",
                            "4   2022-09-07 17:10:08.079328   66.013633\n",
                            "5   2022-09-08 17:10:08.079328   60.081865\n",
                            "6   2022-09-09 17:10:08.079328   68.466704\n",
                            "7   2022-09-10 17:10:08.079328   67.765106\n",
                            "8   2022-09-11 17:10:08.079328   70.512261\n",
                            "9   2022-09-12 17:10:08.079328   74.656453\n",
                            "10  2022-09-13 17:10:08.079328   76.459528\n",
                            "11  2022-09-14 17:10:08.079328   82.992958\n",
                            "12  2022-09-15 17:10:08.079328   83.515990\n",
                            "13  2022-09-16 17:10:08.079328   84.200641\n",
                            "14  2022-09-17 17:10:08.079328   87.769946\n",
                            "15  2022-09-18 17:10:08.079328   90.042119\n",
                            "16  2022-09-19 17:10:08.079328   96.126073\n",
                            "17  2022-09-20 17:10:08.079328   93.631101\n",
                            "18  2022-09-21 17:10:08.079328   97.788518\n",
                            "19  2022-09-22 17:10:08.079328   96.889768\n",
                            "20  2022-09-23 17:10:08.079328   94.395825\n",
                            "21  2022-09-24 17:10:08.079328  106.618390\n",
                            "22  2022-09-25 17:10:08.079328  109.853583\n",
                            "23  2022-09-26 17:10:08.079328  107.636519\n",
                            "24  2022-09-27 17:10:08.079328  119.275017\n",
                            "25  2022-09-28 17:10:08.079328  110.705396\n",
                            "26  2022-09-29 17:10:08.079328  117.808508\n",
                            "27  2022-09-30 17:10:08.079328  119.712421\n",
                            "28  2022-10-01 17:10:08.079328  127.475050\n",
                            "29  2022-10-02 17:10:08.079328  129.887528\n",
                            "30  2022-10-03 17:10:08.079328  128.547034\n",
                            "31  2022-10-04 17:10:08.079328  131.819419\n",
                            "32  2022-10-05 17:10:08.079328  130.624314\n",
                            "33  2022-10-06 17:10:08.079328  129.948022\n",
                            "34  2022-10-07 17:10:08.079328  137.449414\n",
                            "35  2022-10-08 17:10:08.079328  141.564937\n",
                            "36  2022-10-09 17:10:08.079328  147.389502\n",
                            "37  2022-10-10 17:10:08.079328  149.908509\n",
                            "38  2022-10-11 17:10:08.079328  147.742129\n",
                            "39  2022-10-12 17:10:08.079328  150.599941\n",
                            "40  2022-10-13 17:10:08.079328  150.963930\n",
                            "41  2022-10-14 17:10:08.079328  152.452275\n",
                            "42  2022-10-15 17:10:08.079328  154.196258\n",
                            "43  2022-10-16 17:10:08.079328  167.770134\n",
                            "44  2022-10-17 17:10:08.079328  162.991591\n",
                            "45  2022-10-18 17:10:08.079328  165.809065\n",
                            "46  2022-10-19 17:10:08.079328  165.967641\n",
                            "47  2022-10-20 17:10:08.079328  174.661238\n",
                            "48  2022-10-21 17:10:08.079328  170.089813\n",
                            "49  2022-10-22 17:10:08.079328  176.896026"
                        ]
                    },
                    "execution_count": 6,
                    "metadata": {},
                    "output_type": "execute_result"
                }
            ],
            "source": [
                "df.head(50)"
            ]
        },
        {
            "cell_type": "code",
            "execution_count": 7,
            "metadata": {},
            "outputs": [
                {
                    "data": {
                        "text/plain": [
                            "(366, 2)"
                        ]
                    },
                    "execution_count": 7,
                    "metadata": {},
                    "output_type": "execute_result"
                }
            ],
            "source": [
                "df.shape"
            ]
        },
        {
            "cell_type": "code",
            "execution_count": 8,
            "metadata": {},
            "outputs": [
                {
                    "data": {
                        "text/plain": [
                            "0    55.292157\n",
                            "1    53.803211\n",
                            "2    58.141693\n",
                            "3    64.530899\n",
                            "4    66.013633\n",
                            "Name: sales, dtype: float64"
                        ]
                    },
                    "execution_count": 8,
                    "metadata": {},
                    "output_type": "execute_result"
                }
            ],
            "source": [
                "ts = df[\"sales\"]\n",
                "ts.head()"
            ]
        },
        {
            "cell_type": "code",
            "execution_count": null,
            "metadata": {},
            "outputs": [
                {
                    "data": {
                        "image/png": "[encoded data removed]",
                        "text/plain": [
                            "<Figure size 600x200 with 1 Axes>"
                        ]
                    },
                    "metadata": {},
                    "output_type": "display_data"
                }
            ],
            "source": [
                "fig, axis = plt.subplots(figsize = (6, 2))\n",
                "\n",
                "sns.lineplot(data = ts)\n",
                "\n",
                "plt.tight_layout()\n",
                "\n",
                "plt.show()"
            ]
        },
        {
            "cell_type": "markdown",
            "metadata": {},
            "source": [
                "¿Cuál es el tensor de la serie temporal?\n",
                "Diaria\n",
                "¿Cuál es la tendencia?\n",
                "Postivia ascendente\n",
                "¿Es estacionaria?\n",
                "No lo parece\n",
                "¿Existe variabilidad o presencia de ruido?\n"
            ]
        },
        {
            "cell_type": "code",
            "execution_count": 10,
            "metadata": {},
            "outputs": [
                {
                    "data": {
                        "text/plain": [
                            "<statsmodels.tsa.seasonal.DecomposeResult at 0x7663b2eaf4f0>"
                        ]
                    },
                    "execution_count": 10,
                    "metadata": {},
                    "output_type": "execute_result"
                }
            ],
            "source": [
                "decomposition = seasonal_decompose(ts, period = 30)\n",
                "decomposition"
            ]
        },
        {
            "cell_type": "code",
            "execution_count": 11,
            "metadata": {},
            "outputs": [
                {
                    "data": {
                        "image/png": "[encoded data removed]",
                        "text/plain": [
                            "<Figure size 800x400 with 1 Axes>"
                        ]
                    },
                    "metadata": {},
                    "output_type": "display_data"
                }
            ],
            "source": [
                "trend = decomposition.trend\n",
                "\n",
                "fig, axis = plt.subplots(figsize = (8, 4))\n",
                "\n",
                "sns.lineplot(data = ts)\n",
                "sns.lineplot(data = trend)\n",
                "\n",
                "plt.tight_layout()\n",
                "\n",
                "plt.show()"
            ]
        },
        {
            "cell_type": "code",
            "execution_count": 12,
            "metadata": {},
            "outputs": [
                {
                    "data": {
                        "image/png": "[encoded data removed]",
                        "text/plain": [
                            "<Figure size 800x400 with 1 Axes>"
                        ]
                    },
                    "metadata": {},
                    "output_type": "display_data"
                }
            ],
            "source": [
                "seasonal = decomposition.seasonal\n",
                "\n",
                "fig, axis = plt.subplots(figsize = (8, 4))\n",
                "\n",
                "sns.lineplot(data = ts) # Representa el número de ventas diarias\n",
                "sns.lineplot(data = seasonal)\n",
                "\n",
                "plt.tight_layout()\n",
                "\n",
                "plt.show()"
            ]
        },
        {
            "cell_type": "code",
            "execution_count": 13,
            "metadata": {},
            "outputs": [],
            "source": [
                "def test_stationarity(timeseries):\n",
                "    print(\"Resultados de la prueba de Dickey-Fuller:\")\n",
                "    dftest = adfuller(timeseries, autolag = \"AIC\")\n",
                "    dfoutput = pd.Series(dftest[0:4], index = [\"Test Statistic\", \"p-value\", \"#Lags Used\", \"Number of Observations Used\"])\n",
                "    for key,value in dftest[4].items():\n",
                "        dfoutput[\"Critical Value (%s)\"%key] = value\n",
                "    return dfoutput"
            ]
        },
        {
            "cell_type": "code",
            "execution_count": 14,
            "metadata": {},
            "outputs": [
                {
                    "name": "stdout",
                    "output_type": "stream",
                    "text": [
                        "Resultados de la prueba de Dickey-Fuller:\n"
                    ]
                },
                {
                    "data": {
                        "text/plain": [
                            "Test Statistic                   0.545414\n",
                            "p-value                          0.986190\n",
                            "#Lags Used                      13.000000\n",
                            "Number of Observations Used    352.000000\n",
                            "Critical Value (1%)             -3.449065\n",
                            "Critical Value (5%)             -2.869786\n",
                            "Critical Value (10%)            -2.571163\n",
                            "dtype: float64"
                        ]
                    },
                    "execution_count": 14,
                    "metadata": {},
                    "output_type": "execute_result"
                }
            ],
            "source": [
                "test_stationarity(ts)"
            ]
        },
        {
            "cell_type": "markdown",
            "metadata": {},
            "source": [
                "No es estacionaria, p-value >0.05"
            ]
        },
        {
            "cell_type": "code",
            "execution_count": null,
            "metadata": {},
            "outputs": [
                {
                    "ename": "ValueError",
                    "evalue": "'sales' is not one of the example datasets.",
                    "output_type": "error",
                    "traceback": [
                        "\u001b[0;31m---------------------------------------------------------------------------\u001b[0m",
                        "\u001b[0;31mValueError\u001b[0m                                Traceback (most recent call last)",
                        "Cell \u001b[0;32mIn[16], line 3\u001b[0m\n\u001b[1;32m      1\u001b[0m \u001b[38;5;66;03m# miramos con \"otra lupa\"\u001b[39;00m\n\u001b[1;32m      2\u001b[0m \u001b[38;5;66;03m# Diferenciar la serie para remover tendencia\u001b[39;00m\n\u001b[0;32m----> 3\u001b[0m sales_dif \u001b[38;5;241m=\u001b[39m \u001b[43msns\u001b[49m\u001b[38;5;241;43m.\u001b[39;49m\u001b[43mload_dataset\u001b[49m\u001b[43m(\u001b[49m\u001b[38;5;124;43m\"\u001b[39;49m\u001b[38;5;124;43msales\u001b[39;49m\u001b[38;5;124;43m\"\u001b[39;49m\u001b[43m)\u001b[49m\n\u001b[1;32m      5\u001b[0m sales_dif[\u001b[38;5;124m\"\u001b[39m\u001b[38;5;124mdate\u001b[39m\u001b[38;5;124m\"\u001b[39m] \u001b[38;5;241m=\u001b[39m pd\u001b[38;5;241m.\u001b[39mto_datetime(sales_dif[[\u001b[38;5;124m\"\u001b[39m\u001b[38;5;124mdate\u001b[39m\u001b[38;5;124m\"\u001b[39m]]\u001b[38;5;241m.\u001b[39massign(day \u001b[38;5;241m=\u001b[39m \u001b[38;5;241m1\u001b[39m))\n\u001b[1;32m      7\u001b[0m flights_dif \u001b[38;5;241m=\u001b[39m sales_dif\u001b[38;5;241m.\u001b[39mset_index(\u001b[38;5;124m\"\u001b[39m\u001b[38;5;124mdate\u001b[39m\u001b[38;5;124m\"\u001b[39m)\n",
                        "File \u001b[0;32m~/.local/lib/python3.10/site-packages/seaborn/utils.py:573\u001b[0m, in \u001b[0;36mload_dataset\u001b[0;34m(name, cache, data_home, **kws)\u001b[0m\n\u001b[1;32m    571\u001b[0m \u001b[38;5;28;01mif\u001b[39;00m \u001b[38;5;129;01mnot\u001b[39;00m os\u001b[38;5;241m.\u001b[39mpath\u001b[38;5;241m.\u001b[39mexists(cache_path):\n\u001b[1;32m    572\u001b[0m     \u001b[38;5;28;01mif\u001b[39;00m name \u001b[38;5;129;01mnot\u001b[39;00m \u001b[38;5;129;01min\u001b[39;00m get_dataset_names():\n\u001b[0;32m--> 573\u001b[0m         \u001b[38;5;28;01mraise\u001b[39;00m \u001b[38;5;167;01mValueError\u001b[39;00m(\u001b[38;5;124mf\u001b[39m\u001b[38;5;124m\"\u001b[39m\u001b[38;5;124m'\u001b[39m\u001b[38;5;132;01m{\u001b[39;00mname\u001b[38;5;132;01m}\u001b[39;00m\u001b[38;5;124m'\u001b[39m\u001b[38;5;124m is not one of the example datasets.\u001b[39m\u001b[38;5;124m\"\u001b[39m)\n\u001b[1;32m    574\u001b[0m     urlretrieve(url, cache_path)\n\u001b[1;32m    575\u001b[0m full_path \u001b[38;5;241m=\u001b[39m cache_path\n",
                        "\u001b[0;31mValueError\u001b[0m: 'sales' is not one of the example datasets."
                    ]
                }
            ],
            "source": []
        }
    ],
    "metadata": {
        "kernelspec": {
            "display_name": "Python 3",
            "language": "python",
            "name": "python3"
        },
        "language_info": {
            "codemirror_mode": {
                "name": "ipython",
                "version": 3
            },
            "file_extension": ".py",
            "mimetype": "text/x-python",
            "name": "python",
            "nbconvert_exporter": "python",
            "pygments_lexer": "ipython3",
            "version": "3.10.12"
        },
        "orig_nbformat": 4
    },
    "nbformat": 4,
    "nbformat_minor": 2
}
